{
 "cells": [
  {
   "cell_type": "code",
   "execution_count": 9,
   "metadata": {},
   "outputs": [],
   "source": [
    "# !pip install pandas-datareader\n",
    "# !pip install fix_yahoo_finance\n",
    "import pandas as pd\n",
    "import datetime\n",
    "from datetime import timedelta\n",
    "import pandas_datareader.data as web\n",
    "import fix_yahoo_finance as yf\n",
    "import matplotlib.pyplot as plt\n",
    "import numpy as np\n",
    "import statsmodels.api as sm\n",
    "class EventStudy():\n",
    "    def __init__(self,file_path):\n",
    "        try:\n",
    "            pd.read_csv(file_path)\n",
    "        except TypeError:\n",
    "            return f'Wrong File Type.'\n",
    "        \n",
    "        #Define all basic attributes below\n",
    "        self.dataframe = pd.DataFrame(pd.read_csv(file_path))\n",
    "        self.company = self.dataframe['Ticker']\n",
    "        self.market = self.dataframe['Market']\n",
    "        self.industry = self.dataframe['Industry']\n",
    "        self.year = self.dataframe['Year']\n",
    "        self.month = self.dataframe['Month']\n",
    "        self.day = self.dataframe['Day']\n",
    "        \n",
    "        ##Establish the dictionary and lists to store information for further reference\n",
    "        \n",
    "        #Store the link between the stock and the market that it belongs to \n",
    "        self.dict = {}\n",
    "        for i in range(0,len(self.market)):\n",
    "            self.dict[self.company[i]] = self.market[i]\n",
    "        \n",
    "        #Store the event dates\n",
    "        eventdate = []\n",
    "        for i in range(0,len(self.dataframe)):\n",
    "            eventdate.append(datetime.datetime(self.year[i],self.month[i],self.day[i]))\n",
    "        self.dataframe['EventDate'] = eventdate\n",
    "        \n",
    "        #Suppose there is only one event in a month to avoid too short sample periods.\n",
    "        \n",
    "        inter_days = []\n",
    "        uniquedays = sorted(self.dataframe['EventDate'].unique())\n",
    "        for i in range(0,len(uniquedays)-1):\n",
    "            inter_days.append(int((uniquedays[i+1]-uniquedays[i])/np.timedelta64(1,'D')))\n",
    "        self.sample_length = min(inter_days)\n",
    "        \n",
    "        #Store the regression result in the reg funtion for the use in visualization fuctions.\n",
    "        self.reg_result = []\n",
    "    \n",
    "    def reg(self):\n",
    "        # The model is based on the FFJR(1969), using cumulative regression residuals to denote the extent to\n",
    "        # which the stocks are affected.\n",
    "        \n",
    "        eventdate_set = self.dataframe['EventDate'].unique()\n",
    "        subdate_cumulative_abnormal_return = pd.DataFrame()\n",
    "        \n",
    "        #Regressions in terms of each subevent\n",
    "        for date in eventdate_set:\n",
    "            subevent_df = self.dataframe[self.dataframe.EventDate == date]\n",
    "            start_date = date - np.timedelta64(self.sample_length,'D')\n",
    "            end_date = date + np.timedelta64(self.sample_length,'D')\n",
    "            \n",
    "            #Measure how the event affects the sample stocks\n",
    "            #The dataframe 'subevent_cumulative_abnormal_return' is used to store the CAR of each sample\n",
    "            #stock and the average CAR of the portfolio.\n",
    "            subevent_company_list = subevent_df['Ticker'].unique()\n",
    "            subevent_cumulative_abnormal_return = pd.DataFrame()\n",
    "            for company in subevent_company_list:\n",
    "                price = web.DataReader([company, self.dict[company]],'yahoo', start_date,end_date)\n",
    "                close_price = price['Close']\n",
    "                return_rate = close_price.pct_change()\n",
    "                x = return_rate[company]    \n",
    "                X = sm.add_constant(x)\n",
    "                y = return_rate[self.dict[company]]\n",
    "                model = sm.OLS(y,X,missing='drop')\n",
    "                result = model.fit()\n",
    "                (a,b) = result.params\n",
    "                return_rate['Abnormal_Return'] = y - x*b - a\n",
    "                subevent_cumulative_abnormal_return[f'{company}'] = return_rate['Abnormal_Return'].cumsum()[1:]\n",
    "            subevent_cumulative_abnormal_return['Average_CAR'] = subevent_cumulative_abnormal_return.apply(lambda x: x.sum()/(len(subevent_company_list)),axis = 1)\n",
    "            \n",
    "            self.reg_result.append(subevent_cumulative_abnormal_return['Average_CAR'])\n",
    "  \n",
    "    def visualization(self):\n",
    "        pass"
   ]
  },
  {
   "cell_type": "code",
   "execution_count": 43,
   "metadata": {},
   "outputs": [],
   "source": [
    "####reg"
   ]
  },
  {
   "cell_type": "code",
   "execution_count": 15,
   "metadata": {},
   "outputs": [],
   "source": [
    "instance = EventStudy(r'D:data/test.csv')\n",
    "instance.reg()"
   ]
  },
  {
   "cell_type": "code",
   "execution_count": null,
   "metadata": {},
   "outputs": [],
   "source": [
    "##line"
   ]
  },
  {
   "cell_type": "code",
   "execution_count": 42,
   "metadata": {},
   "outputs": [
    {
     "data": {
      "image/png": "[encoded data removed]",
      "text/plain": [
       "<Figure size 432x288 with 1 Axes>"
      ]
     },
     "metadata": {},
     "output_type": "display_data"
    }
   ],
   "source": [
    "a=[str(i)[0:10] for i in instance.reg_result[5].index]\n",
    "b=[i for i in instance.reg_result[1].values]\n",
    "import matplotlib.pyplot as plt\n",
    "plt.plot(a,b)\n",
    "plt.show()"
   ]
  },
  {
   "cell_type": "code",
   "execution_count": null,
   "metadata": {},
   "outputs": [],
   "source": [
    "##bar"
   ]
  },
  {
   "cell_type": "code",
   "execution_count": null,
   "metadata": {},
   "outputs": [],
   "source": [
    "## other charts"
   ]
  }
 ],
 "metadata": {
  "kernelspec": {
   "display_name": "Python 3",
   "language": "python",
   "name": "python3"
  },
  "language_info": {
   "codemirror_mode": {
    "name": "ipython",
    "version": 3
   },
   "file_extension": ".py",
   "mimetype": "text/x-python",
   "name": "python",
   "nbconvert_exporter": "python",
   "pygments_lexer": "ipython3",
   "version": "3.6.5"
  }
 },
 "nbformat": 4,
 "nbformat_minor": 2
}
